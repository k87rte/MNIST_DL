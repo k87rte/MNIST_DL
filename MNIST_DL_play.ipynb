{
  "nbformat": 4,
  "nbformat_minor": 0,
  "metadata": {
    "colab": {
      "provenance": [],
      "authorship_tag": "ABX9TyNN27IsJ/9aNmmH5OaTwotI",
      "include_colab_link": true
    },
    "kernelspec": {
      "name": "python3",
      "display_name": "Python 3"
    },
    "language_info": {
      "name": "python"
    }
  },
  "cells": [
    {
      "cell_type": "markdown",
      "metadata": {
        "id": "view-in-github",
        "colab_type": "text"
      },
      "source": [
        "<a href=\"https://colab.research.google.com/github/k87rte/MNIST_DL/blob/main/MNIST_DL_play.ipynb\" target=\"_parent\"><img src=\"https://colab.research.google.com/assets/colab-badge.svg\" alt=\"Open In Colab\"/></a>"
      ]
    },
    {
      "cell_type": "markdown",
      "source": [
        "### Use tensorflow to make DL-models for predicting handwritten numbers from the MNIST dataset"
      ],
      "metadata": {
        "id": "N6p3WfE9M0Xd"
      }
    },
    {
      "cell_type": "code",
      "source": [
        "import tensorflow as tf\n",
        "import tensorflow.keras as keras\n",
        "from keras.datasets import mnist\n",
        "from keras import Sequential, layers\n",
        "from keras.layers import Flatten, Dense, Conv2D, MaxPool2D\n",
        "from keras.utils import to_categorical\n",
        "import numpy as np\n",
        "import matplotlib.pyplot as plt\n",
        "from sklearn.model_selection import train_test_split"
      ],
      "metadata": {
        "id": "CUGc9JI9sOxs"
      },
      "execution_count": 21,
      "outputs": []
    },
    {
      "cell_type": "code",
      "source": [
        "(trainX, trainy),(testX, testy) = mnist.load_data()\n",
        "X = np.concatenate((trainX, testX),axis = 0)\n",
        "y = np.concatenate((trainy, testy), axis = 0)\n",
        "print(f'the shape of MNIST X = {X.shape}')\n",
        "print(f'the shape of MNIST y = {y.shape}')\n",
        "print('****************************')\n",
        "fig, (ax1,ax2) = plt.subplots(1,2,figsize=(4,2))\n",
        "ax1.imshow(X[4,:,:], cmap='gray')\n",
        "ax2.imshow(X[0,:,:], cmap='gray')\n",
        "fig.suptitle('handwritten numbers')"
      ],
      "metadata": {
        "id": "6lBvR9Jmsibk",
        "colab": {
          "base_uri": "https://localhost:8080/",
          "height": 297
        },
        "outputId": "c679f084-9950-4640-a68f-0d59a4982cc9"
      },
      "execution_count": 22,
      "outputs": [
        {
          "output_type": "stream",
          "name": "stdout",
          "text": [
            "the shape of MNIST X = (70000, 28, 28)\n",
            "the shape of MNIST y = (70000,)\n",
            "****************************\n"
          ]
        },
        {
          "output_type": "execute_result",
          "data": {
            "text/plain": [
              "Text(0.5, 0.98, 'handwritten numbers')"
            ]
          },
          "metadata": {},
          "execution_count": 22
        },
        {
          "output_type": "display_data",
          "data": {
            "text/plain": [
              "<Figure size 400x200 with 2 Axes>"
            ],
            "image/png": "[encoded data removed]"
          },
          "metadata": {}
        }
      ]
    },
    {
      "cell_type": "code",
      "source": [
        "rS = 42\n",
        "trainX, testX, trainy, testy = train_test_split(X,y,\n",
        "                                                random_state=rS,\n",
        "                                                shuffle=True,\n",
        "                                                train_size=.8)\n",
        "print(f'shape of trainX is {trainX.shape} for random state {rS}')\n",
        "print(f'shape of testX is {testX.shape} for random state {rS}')\n",
        "\n",
        "\n",
        "# the pixel intensities are 0-255. bringing it\n",
        "# between 0-1 will help in reaching the best params faster.\n",
        "\n",
        "trainX_norm = trainX/255\n",
        "testX_norm = testX/255\n",
        "trainy_onehot = to_categorical(trainy)\n",
        "testy_onehot = to_categorical(testy)\n",
        "\n",
        "# search and remove images with NAN\n",
        "print(f'does train images have nan: {np.isnan(trainX_norm).any()}')\n",
        "print(f'does test images have nan: {np.isnan(testX_norm).any()}')\n",
        "print(f'does train labels have nan: {np.isnan(trainy).any()}')\n",
        "print(f'does test labels have nan: {np.isnan(testy).any()}')"
      ],
      "metadata": {
        "colab": {
          "base_uri": "https://localhost:8080/"
        },
        "id": "iJcxGpJnsyOm",
        "outputId": "4d8a21d3-c862-4144-f835-5940f48efbe8"
      },
      "execution_count": 23,
      "outputs": [
        {
          "output_type": "stream",
          "name": "stdout",
          "text": [
            "shape of trainX is (56000, 28, 28) for random state 42\n",
            "shape of testX is (14000, 28, 28) for random state 42\n",
            "does train images have nan: False\n",
            "does test images have nan: False\n",
            "does train labels have nan: False\n",
            "does test labels have nan: False\n"
          ]
        }
      ]
    },
    {
      "cell_type": "code",
      "source": [
        "from keras.engine import input_spec\n",
        "# build a fully connected dense neural network\n",
        "model_fc = Sequential()\n",
        "model_fc.add(Flatten(name='flatten_in'))\n",
        "model_fc.add(Dense(64, activation='relu', name='layer1'))\n",
        "model_fc.add(Dense(32, activation='relu', name='layer2'))\n",
        "model_fc.add(Dense(16, activation='relu', name='layer3'))\n",
        "model_fc.add(Dense(10, activation='softmax', name='finalLayer'))\n",
        "\n",
        "model_fc.compile(\n",
        "                 optimizer=keras.optimizers.Adam(learning_rate=0.001),\n",
        "                 loss=keras.losses.CategoricalCrossentropy(),\n",
        "                 metrics=[keras.metrics.CategoricalAccuracy()],\n",
        "                 )\n",
        "model_fc.build((None, 28*28))\n",
        "model_fc.summary()\n",
        "\n",
        "history = model_fc.fit(trainX_norm,\n",
        "             trainy_onehot,\n",
        "             epochs=30,\n",
        "             batch_size=32,\n",
        "             validation_data=(testX_norm, testy_onehot))"
      ],
      "metadata": {
        "colab": {
          "base_uri": "https://localhost:8080/"
        },
        "id": "RZ6UR7XA1vCY",
        "outputId": "befe442f-e985-4a04-ea19-c55e407d6d4c"
      },
      "execution_count": 16,
      "outputs": [
        {
          "output_type": "stream",
          "name": "stdout",
          "text": [
            "Model: \"sequential_1\"\n",
            "_________________________________________________________________\n",
            " Layer (type)                Output Shape              Param #   \n",
            "=================================================================\n",
            " flatten_in (Flatten)        (None, 784)               0         \n",
            "                                                                 \n",
            " layer1 (Dense)              (None, 64)                50240     \n",
            "                                                                 \n",
            " layer2 (Dense)              (None, 32)                2080      \n",
            "                                                                 \n",
            " layer3 (Dense)              (None, 16)                528       \n",
            "                                                                 \n",
            " finalLayer (Dense)          (None, 10)                170       \n",
            "                                                                 \n",
            "=================================================================\n",
            "Total params: 53,018\n",
            "Trainable params: 53,018\n",
            "Non-trainable params: 0\n",
            "_________________________________________________________________\n",
            "Epoch 1/30\n",
            "1750/1750 [==============================] - 10s 5ms/step - loss: 0.3387 - categorical_accuracy: 0.8987 - val_loss: 0.2098 - val_categorical_accuracy: 0.9409\n",
            "Epoch 2/30\n",
            "1750/1750 [==============================] - 12s 7ms/step - loss: 0.1426 - categorical_accuracy: 0.9585 - val_loss: 0.1457 - val_categorical_accuracy: 0.9573\n",
            "Epoch 3/30\n",
            "1750/1750 [==============================] - 9s 5ms/step - loss: 0.1058 - categorical_accuracy: 0.9682 - val_loss: 0.1399 - val_categorical_accuracy: 0.9593\n",
            "Epoch 4/30\n",
            "1750/1750 [==============================] - 9s 5ms/step - loss: 0.0832 - categorical_accuracy: 0.9751 - val_loss: 0.1139 - val_categorical_accuracy: 0.9671\n",
            "Epoch 5/30\n",
            "1750/1750 [==============================] - 9s 5ms/step - loss: 0.0696 - categorical_accuracy: 0.9782 - val_loss: 0.1165 - val_categorical_accuracy: 0.9670\n",
            "Epoch 6/30\n",
            "1750/1750 [==============================] - 6s 4ms/step - loss: 0.0596 - categorical_accuracy: 0.9807 - val_loss: 0.1213 - val_categorical_accuracy: 0.9667\n",
            "Epoch 7/30\n",
            "1750/1750 [==============================] - 7s 4ms/step - loss: 0.0517 - categorical_accuracy: 0.9834 - val_loss: 0.1212 - val_categorical_accuracy: 0.9665\n",
            "Epoch 8/30\n",
            "1750/1750 [==============================] - 6s 4ms/step - loss: 0.0427 - categorical_accuracy: 0.9859 - val_loss: 0.1138 - val_categorical_accuracy: 0.9707\n",
            "Epoch 9/30\n",
            "1750/1750 [==============================] - 9s 5ms/step - loss: 0.0394 - categorical_accuracy: 0.9872 - val_loss: 0.1165 - val_categorical_accuracy: 0.9703\n",
            "Epoch 10/30\n",
            "1750/1750 [==============================] - 6s 3ms/step - loss: 0.0342 - categorical_accuracy: 0.9886 - val_loss: 0.1200 - val_categorical_accuracy: 0.9696\n",
            "Epoch 11/30\n",
            "1750/1750 [==============================] - 8s 5ms/step - loss: 0.0302 - categorical_accuracy: 0.9906 - val_loss: 0.1215 - val_categorical_accuracy: 0.9699\n",
            "Epoch 12/30\n",
            "1750/1750 [==============================] - 7s 4ms/step - loss: 0.0283 - categorical_accuracy: 0.9910 - val_loss: 0.1203 - val_categorical_accuracy: 0.9722\n",
            "Epoch 13/30\n",
            "1750/1750 [==============================] - 7s 4ms/step - loss: 0.0251 - categorical_accuracy: 0.9914 - val_loss: 0.1193 - val_categorical_accuracy: 0.9736\n",
            "Epoch 14/30\n",
            "1750/1750 [==============================] - 7s 4ms/step - loss: 0.0239 - categorical_accuracy: 0.9918 - val_loss: 0.1265 - val_categorical_accuracy: 0.9709\n",
            "Epoch 15/30\n",
            "1750/1750 [==============================] - 7s 4ms/step - loss: 0.0223 - categorical_accuracy: 0.9927 - val_loss: 0.1232 - val_categorical_accuracy: 0.9729\n",
            "Epoch 16/30\n",
            "1750/1750 [==============================] - 12s 7ms/step - loss: 0.0206 - categorical_accuracy: 0.9929 - val_loss: 0.1347 - val_categorical_accuracy: 0.9727\n",
            "Epoch 17/30\n",
            "1750/1750 [==============================] - 12s 7ms/step - loss: 0.0199 - categorical_accuracy: 0.9936 - val_loss: 0.1414 - val_categorical_accuracy: 0.9721\n",
            "Epoch 18/30\n",
            "1750/1750 [==============================] - 9s 5ms/step - loss: 0.0166 - categorical_accuracy: 0.9943 - val_loss: 0.1455 - val_categorical_accuracy: 0.9703\n",
            "Epoch 19/30\n",
            "1750/1750 [==============================] - 9s 5ms/step - loss: 0.0167 - categorical_accuracy: 0.9942 - val_loss: 0.1509 - val_categorical_accuracy: 0.9708\n",
            "Epoch 20/30\n",
            "1750/1750 [==============================] - 10s 6ms/step - loss: 0.0171 - categorical_accuracy: 0.9939 - val_loss: 0.1556 - val_categorical_accuracy: 0.9709\n",
            "Epoch 21/30\n",
            "1750/1750 [==============================] - 7s 4ms/step - loss: 0.0165 - categorical_accuracy: 0.9947 - val_loss: 0.1499 - val_categorical_accuracy: 0.9718\n",
            "Epoch 22/30\n",
            "1750/1750 [==============================] - 6s 4ms/step - loss: 0.0153 - categorical_accuracy: 0.9948 - val_loss: 0.1535 - val_categorical_accuracy: 0.9718\n",
            "Epoch 23/30\n",
            "1750/1750 [==============================] - 7s 4ms/step - loss: 0.0110 - categorical_accuracy: 0.9962 - val_loss: 0.1723 - val_categorical_accuracy: 0.9712\n",
            "Epoch 24/30\n",
            "1750/1750 [==============================] - 7s 4ms/step - loss: 0.0152 - categorical_accuracy: 0.9948 - val_loss: 0.1859 - val_categorical_accuracy: 0.9698\n",
            "Epoch 25/30\n",
            "1750/1750 [==============================] - 8s 4ms/step - loss: 0.0157 - categorical_accuracy: 0.9950 - val_loss: 0.1563 - val_categorical_accuracy: 0.9742\n",
            "Epoch 26/30\n",
            "1750/1750 [==============================] - 7s 4ms/step - loss: 0.0110 - categorical_accuracy: 0.9962 - val_loss: 0.1488 - val_categorical_accuracy: 0.9747\n",
            "Epoch 27/30\n",
            "1750/1750 [==============================] - 8s 4ms/step - loss: 0.0124 - categorical_accuracy: 0.9960 - val_loss: 0.2113 - val_categorical_accuracy: 0.9660\n",
            "Epoch 28/30\n",
            "1750/1750 [==============================] - 7s 4ms/step - loss: 0.0132 - categorical_accuracy: 0.9957 - val_loss: 0.1783 - val_categorical_accuracy: 0.9724\n",
            "Epoch 29/30\n",
            "1750/1750 [==============================] - 8s 4ms/step - loss: 0.0122 - categorical_accuracy: 0.9960 - val_loss: 0.2108 - val_categorical_accuracy: 0.9681\n",
            "Epoch 30/30\n",
            "1750/1750 [==============================] - 7s 4ms/step - loss: 0.0113 - categorical_accuracy: 0.9961 - val_loss: 0.1869 - val_categorical_accuracy: 0.9706\n"
          ]
        }
      ]
    },
    {
      "cell_type": "code",
      "source": [
        "loss = history.history['loss']\n",
        "accuracy = history.history['categorical_accuracy']\n",
        "fig, (ax1, ax2) = plt.subplots(1,2,figsize=(5,3))\n",
        "ax1.plot(loss)\n",
        "ax2.plot(accuracy)\n",
        "ax1.set_title('loss')\n",
        "ax1.set_xlabel('epochs')\n",
        "ax2.set_title('accuracy')\n",
        "ax2.set_xlabel('epochs')\n",
        "fig.suptitle('flatten+allDense')\n",
        "plt.tight_layout()\n",
        "plt.savefig('performance_model1.jpeg',dpi=600)"
      ],
      "metadata": {
        "colab": {
          "base_uri": "https://localhost:8080/",
          "height": 316
        },
        "id": "sTCaabm7Llc7",
        "outputId": "2b7c458b-3387-4b3d-d906-16d096d2fbb4"
      },
      "execution_count": 20,
      "outputs": [
        {
          "output_type": "display_data",
          "data": {
            "text/plain": [
              "<Figure size 500x300 with 2 Axes>"
            ],
            "image/png": "[encoded data removed]"
          },
          "metadata": {}
        }
      ]
    },
    {
      "cell_type": "code",
      "source": [
        "# build a CNN and check model performance\n",
        "import keras\n",
        "model_cnn = Sequential()\n",
        "model_cnn.add(Conv2D(32, (3,3), padding='same', activation='relu', input_shape=(28,28,1)))\n",
        "model_cnn.add(MaxPool2D())\n",
        "model_cnn.add(Flatten())\n",
        "model_cnn.add(Dense(32, activation='relu'))\n",
        "model_cnn.add(Dense(10, activation='softmax'))\n",
        "\n",
        "#model_cnn.build(None, (28,28,1))\n",
        "model_cnn.compile(optimizer=keras.optimizers.Adam(learning_rate=0.001),\n",
        "                  loss=keras.losses.CategoricalCrossentropy(),\n",
        "                  metrics=[keras.metrics.CategoricalAccuracy()])\n",
        "\n",
        "history_cnn = model_cnn.fit(trainX_norm,\n",
        "             trainy_onehot,\n",
        "             epochs=10,\n",
        "             batch_size=32,\n",
        "             validation_data=(testX_norm, testy_onehot))"
      ],
      "metadata": {
        "colab": {
          "base_uri": "https://localhost:8080/"
        },
        "id": "wfCJ71dDPr78",
        "outputId": "76a34e51-4b3c-4041-8e90-1bb73e4388cd"
      },
      "execution_count": 29,
      "outputs": [
        {
          "output_type": "stream",
          "name": "stdout",
          "text": [
            "Epoch 1/10\n",
            "1750/1750 [==============================] - 39s 22ms/step - loss: 0.1953 - categorical_accuracy: 0.9426 - val_loss: 0.0924 - val_categorical_accuracy: 0.9721\n",
            "Epoch 2/10\n",
            "1750/1750 [==============================] - 40s 23ms/step - loss: 0.0686 - categorical_accuracy: 0.9795 - val_loss: 0.0754 - val_categorical_accuracy: 0.9771\n",
            "Epoch 3/10\n",
            "1750/1750 [==============================] - 41s 23ms/step - loss: 0.0496 - categorical_accuracy: 0.9851 - val_loss: 0.0713 - val_categorical_accuracy: 0.9776\n",
            "Epoch 4/10\n",
            "1750/1750 [==============================] - 40s 23ms/step - loss: 0.0370 - categorical_accuracy: 0.9889 - val_loss: 0.0642 - val_categorical_accuracy: 0.9809\n",
            "Epoch 5/10\n",
            "1750/1750 [==============================] - 38s 22ms/step - loss: 0.0295 - categorical_accuracy: 0.9908 - val_loss: 0.0547 - val_categorical_accuracy: 0.9831\n",
            "Epoch 6/10\n",
            "1750/1750 [==============================] - 38s 22ms/step - loss: 0.0227 - categorical_accuracy: 0.9931 - val_loss: 0.0605 - val_categorical_accuracy: 0.9834\n",
            "Epoch 7/10\n",
            "1750/1750 [==============================] - 40s 23ms/step - loss: 0.0174 - categorical_accuracy: 0.9947 - val_loss: 0.0565 - val_categorical_accuracy: 0.9839\n",
            "Epoch 8/10\n",
            "1750/1750 [==============================] - 38s 22ms/step - loss: 0.0143 - categorical_accuracy: 0.9958 - val_loss: 0.0609 - val_categorical_accuracy: 0.9832\n",
            "Epoch 9/10\n",
            "1750/1750 [==============================] - 49s 28ms/step - loss: 0.0114 - categorical_accuracy: 0.9962 - val_loss: 0.0645 - val_categorical_accuracy: 0.9831\n",
            "Epoch 10/10\n",
            "1750/1750 [==============================] - 39s 22ms/step - loss: 0.0097 - categorical_accuracy: 0.9968 - val_loss: 0.0669 - val_categorical_accuracy: 0.9823\n"
          ]
        }
      ]
    },
    {
      "cell_type": "code",
      "source": [
        "loss = history_cnn.history['loss']\n",
        "accuracy = history_cnn.history['categorical_accuracy']\n",
        "fig, (ax1, ax2) = plt.subplots(1,2,figsize=(5,3))\n",
        "ax1.plot(loss)\n",
        "ax2.plot(accuracy)\n",
        "ax1.set_title('loss')\n",
        "ax1.set_xlabel('epochs')\n",
        "ax2.set_title('accuracy')\n",
        "ax2.set_xlabel('epochs')\n",
        "fig.suptitle('single CNN layer')\n",
        "plt.tight_layout()\n",
        "plt.savefig('performance_model2.jpeg',dpi=600)"
      ],
      "metadata": {
        "colab": {
          "base_uri": "https://localhost:8080/",
          "height": 316
        },
        "id": "T8O8AJnhpAmi",
        "outputId": "c1fb6a3d-df65-4f4f-8ce8-3cc08cda7c3b"
      },
      "execution_count": 30,
      "outputs": [
        {
          "output_type": "display_data",
          "data": {
            "text/plain": [
              "<Figure size 500x300 with 2 Axes>"
            ],
            "image/png": "[encoded data removed]"
          },
          "metadata": {}
        }
      ]
    },
    {
      "cell_type": "code",
      "source": [
        "# make a hierarchial CNN model\n",
        "model_cnn_hierarchy = Sequential()\n",
        "model_cnn_hierarchy.add(Conv2D(32, (3,3), activation='relu', padding='same',input_shape=(28,28,1)))\n",
        "model_cnn_hierarchy.add(MaxPool2D())\n",
        "model_cnn_hierarchy.add(Conv2D(16, (3,3), activation='relu', padding='same'))\n",
        "model_cnn_hierarchy.add(MaxPool2D())\n",
        "model_cnn_hierarchy.add(Flatten())\n",
        "model_cnn_hierarchy.add(Dense(32, activation='relu'))\n",
        "model_cnn_hierarchy.add(Dense(10, activation='softmax'))\n",
        "\n",
        "\n",
        "model_cnn_hierarchy.summary()\n",
        "\n",
        "model_cnn_hierarchy.compile(optimizer=keras.optimizers.Adam(0.001),\n",
        "                          loss=keras.losses.CategoricalCrossentropy(),\n",
        "                          metrics=[keras.metrics.CategoricalAccuracy()])\n",
        "\n",
        "history_cnn_hierarchy = model_cnn_hierarchy.fit(trainX_norm,\n",
        "                                                trainy_onehot,\n",
        "                                                epochs=10,\n",
        "                                                batch_size=32,\n",
        "                                                validation_data=(testX_norm, testy_onehot))"
      ],
      "metadata": {
        "colab": {
          "base_uri": "https://localhost:8080/"
        },
        "id": "ELtIVKVXpqcG",
        "outputId": "a2c83ff2-3c2a-4f99-f520-a1246de67d22"
      },
      "execution_count": 42,
      "outputs": [
        {
          "output_type": "stream",
          "name": "stdout",
          "text": [
            "Model: \"sequential_19\"\n",
            "_________________________________________________________________\n",
            " Layer (type)                Output Shape              Param #   \n",
            "=================================================================\n",
            " conv2d_26 (Conv2D)          (None, 28, 28, 32)        320       \n",
            "                                                                 \n",
            " max_pooling2d_25 (MaxPoolin  (None, 14, 14, 32)       0         \n",
            " g2D)                                                            \n",
            "                                                                 \n",
            " conv2d_27 (Conv2D)          (None, 14, 14, 16)        4624      \n",
            "                                                                 \n",
            " max_pooling2d_26 (MaxPoolin  (None, 7, 7, 16)         0         \n",
            " g2D)                                                            \n",
            "                                                                 \n",
            " flatten_5 (Flatten)         (None, 784)               0         \n",
            "                                                                 \n",
            " dense_30 (Dense)            (None, 32)                25120     \n",
            "                                                                 \n",
            " dense_31 (Dense)            (None, 10)                330       \n",
            "                                                                 \n",
            "=================================================================\n",
            "Total params: 30,394\n",
            "Trainable params: 30,394\n",
            "Non-trainable params: 0\n",
            "_________________________________________________________________\n",
            "Epoch 1/10\n",
            "1750/1750 [==============================] - 64s 36ms/step - loss: 0.1993 - categorical_accuracy: 0.9397 - val_loss: 0.0850 - val_categorical_accuracy: 0.9743\n",
            "Epoch 2/10\n",
            "1750/1750 [==============================] - 71s 40ms/step - loss: 0.0609 - categorical_accuracy: 0.9813 - val_loss: 0.0559 - val_categorical_accuracy: 0.9833\n",
            "Epoch 3/10\n",
            "1750/1750 [==============================] - 63s 36ms/step - loss: 0.0444 - categorical_accuracy: 0.9864 - val_loss: 0.0485 - val_categorical_accuracy: 0.9838\n",
            "Epoch 4/10\n",
            "1750/1750 [==============================] - 62s 35ms/step - loss: 0.0360 - categorical_accuracy: 0.9884 - val_loss: 0.0519 - val_categorical_accuracy: 0.9832\n",
            "Epoch 5/10\n",
            "1750/1750 [==============================] - 63s 36ms/step - loss: 0.0287 - categorical_accuracy: 0.9910 - val_loss: 0.0434 - val_categorical_accuracy: 0.9859\n",
            "Epoch 6/10\n",
            "1750/1750 [==============================] - 66s 38ms/step - loss: 0.0251 - categorical_accuracy: 0.9918 - val_loss: 0.0373 - val_categorical_accuracy: 0.9879\n",
            "Epoch 7/10\n",
            "1750/1750 [==============================] - 66s 38ms/step - loss: 0.0206 - categorical_accuracy: 0.9934 - val_loss: 0.0375 - val_categorical_accuracy: 0.9889\n",
            "Epoch 8/10\n",
            "1750/1750 [==============================] - 66s 37ms/step - loss: 0.0172 - categorical_accuracy: 0.9944 - val_loss: 0.0398 - val_categorical_accuracy: 0.9883\n",
            "Epoch 9/10\n",
            "1750/1750 [==============================] - 63s 36ms/step - loss: 0.0140 - categorical_accuracy: 0.9955 - val_loss: 0.0438 - val_categorical_accuracy: 0.9875\n",
            "Epoch 10/10\n",
            "1750/1750 [==============================] - 64s 36ms/step - loss: 0.0132 - categorical_accuracy: 0.9956 - val_loss: 0.0453 - val_categorical_accuracy: 0.9879\n"
          ]
        }
      ]
    },
    {
      "cell_type": "code",
      "source": [
        "loss = history_cnn_hierarchy.history['loss']\n",
        "accuracy = history_cnn_hierarchy.history['categorical_accuracy']\n",
        "fig, (ax1, ax2) = plt.subplots(1,2,figsize=(5,3))\n",
        "ax1.plot(loss)\n",
        "ax2.plot(accuracy)\n",
        "ax1.set_title('loss')\n",
        "ax1.set_xlabel('epochs')\n",
        "ax2.set_title('accuracy')\n",
        "ax2.set_xlabel('epochs')\n",
        "fig.suptitle('hierarchial CNN layer')\n",
        "plt.tight_layout()\n",
        "plt.savefig('performance_model3.jpeg',dpi=600)"
      ],
      "metadata": {
        "colab": {
          "base_uri": "https://localhost:8080/",
          "height": 316
        },
        "id": "d9ohWh23s7Ka",
        "outputId": "6c794876-7b8c-4ec2-e000-970f9d4e7b5e"
      },
      "execution_count": 43,
      "outputs": [
        {
          "output_type": "display_data",
          "data": {
            "text/plain": [
              "<Figure size 500x300 with 2 Axes>"
            ],
            "image/png": "[encoded data removed]"
          },
          "metadata": {}
        }
      ]
    },
    {
      "cell_type": "code",
      "source": [
        "!pip install scikeras"
      ],
      "metadata": {
        "colab": {
          "base_uri": "https://localhost:8080/"
        },
        "id": "_x4TmQNe-U9P",
        "outputId": "0ee93efd-90de-406e-c764-721f5426a04e"
      },
      "execution_count": 57,
      "outputs": [
        {
          "output_type": "stream",
          "name": "stdout",
          "text": [
            "Collecting scikeras\n",
            "  Downloading scikeras-0.11.0-py3-none-any.whl (27 kB)\n",
            "Requirement already satisfied: packaging>=0.21 in /usr/local/lib/python3.10/dist-packages (from scikeras) (23.1)\n",
            "Requirement already satisfied: scikit-learn>=1.0.0 in /usr/local/lib/python3.10/dist-packages (from scikeras) (1.2.2)\n",
            "Requirement already satisfied: numpy>=1.17.3 in /usr/local/lib/python3.10/dist-packages (from scikit-learn>=1.0.0->scikeras) (1.22.4)\n",
            "Requirement already satisfied: scipy>=1.3.2 in /usr/local/lib/python3.10/dist-packages (from scikit-learn>=1.0.0->scikeras) (1.10.1)\n",
            "Requirement already satisfied: joblib>=1.1.1 in /usr/local/lib/python3.10/dist-packages (from scikit-learn>=1.0.0->scikeras) (1.3.1)\n",
            "Requirement already satisfied: threadpoolctl>=2.0.0 in /usr/local/lib/python3.10/dist-packages (from scikit-learn>=1.0.0->scikeras) (3.1.0)\n",
            "Installing collected packages: scikeras\n",
            "Successfully installed scikeras-0.11.0\n"
          ]
        }
      ]
    },
    {
      "cell_type": "code",
      "source": [
        "# CNN model with some hyperparameter tuning\n",
        "from sklearn.model_selection import GridSearchCV, KFold\n",
        "from scikeras.wrappers import KerasClassifier\n",
        "\n",
        "# make model as a function\n",
        "def create_model():\n",
        "  model_test_hyperparameter = Sequential()\n",
        "  model_test_hyperparameter.add(Conv2D(32, kernel_size=(3,3),activation='relu',padding='same', input_shape=(28,28,1)))\n",
        "  model_test_hyperparameter.add(MaxPool2D())\n",
        "  model_test_hyperparameter.add(Flatten())\n",
        "  model_test_hyperparameter.add(Dense(32, activation='relu'))\n",
        "  model_test_hyperparameter.add(Dense(10, 'softmax'))\n",
        "\n",
        "  model_test_hyperparameter.compile(optimizer=keras.optimizers.Adam(0.001),\n",
        "                                    loss=keras.losses.CategoricalCrossentropy(),\n",
        "                                    metrics=[keras.metrics.CategoricalAccuracy()])\n",
        "\n",
        "  return model_test_hyperparameter\n",
        "\n",
        "model = KerasClassifier(build_fn=create_model, epochs = 2, verbose=1)\n",
        "p_grid = {\n",
        "          'batch_size':[64,128]\n",
        "}\n",
        "\n",
        "cv = KFold(5, shuffle=True, random_state=rS)\n",
        "clf = GridSearchCV(estimator=model,\n",
        "                   param_grid=p_grid,\n",
        "                   cv=cv)\n",
        "\n",
        "gridRes = clf.fit(trainX_norm, trainy_onehot)"
      ],
      "metadata": {
        "colab": {
          "base_uri": "https://localhost:8080/"
        },
        "id": "9OfDjXJ05hkI",
        "outputId": "cee1677c-ee07-4c22-e696-7437d876d69a"
      },
      "execution_count": 65,
      "outputs": [
        {
          "output_type": "stream",
          "name": "stderr",
          "text": [
            "/usr/local/lib/python3.10/dist-packages/scikeras/wrappers.py:915: UserWarning: ``build_fn`` will be renamed to ``model`` in a future release, at which point use of ``build_fn`` will raise an Error instead.\n",
            "  X, y = self._initialize(X, y)\n"
          ]
        },
        {
          "output_type": "stream",
          "name": "stdout",
          "text": [
            "Epoch 1/2\n",
            "700/700 [==============================] - 25s 35ms/step - loss: 0.2785 - categorical_accuracy: 0.9180\n",
            "Epoch 2/2\n",
            "700/700 [==============================] - 23s 33ms/step - loss: 0.0924 - categorical_accuracy: 0.9723\n",
            "175/175 [==============================] - 3s 19ms/step\n"
          ]
        },
        {
          "output_type": "stream",
          "name": "stderr",
          "text": [
            "/usr/local/lib/python3.10/dist-packages/scikeras/wrappers.py:915: UserWarning: ``build_fn`` will be renamed to ``model`` in a future release, at which point use of ``build_fn`` will raise an Error instead.\n",
            "  X, y = self._initialize(X, y)\n"
          ]
        },
        {
          "output_type": "stream",
          "name": "stdout",
          "text": [
            "Epoch 1/2\n",
            "700/700 [==============================] - 24s 34ms/step - loss: 0.2640 - categorical_accuracy: 0.9235\n",
            "Epoch 2/2\n",
            "700/700 [==============================] - 24s 34ms/step - loss: 0.0892 - categorical_accuracy: 0.9730\n",
            "175/175 [==============================] - 3s 15ms/step\n"
          ]
        },
        {
          "output_type": "stream",
          "name": "stderr",
          "text": [
            "/usr/local/lib/python3.10/dist-packages/scikeras/wrappers.py:915: UserWarning: ``build_fn`` will be renamed to ``model`` in a future release, at which point use of ``build_fn`` will raise an Error instead.\n",
            "  X, y = self._initialize(X, y)\n"
          ]
        },
        {
          "output_type": "stream",
          "name": "stdout",
          "text": [
            "Epoch 1/2\n",
            "700/700 [==============================] - 24s 33ms/step - loss: 0.2826 - categorical_accuracy: 0.9176\n",
            "Epoch 2/2\n",
            "700/700 [==============================] - 24s 35ms/step - loss: 0.0930 - categorical_accuracy: 0.9730\n",
            "175/175 [==============================] - 2s 13ms/step\n"
          ]
        },
        {
          "output_type": "stream",
          "name": "stderr",
          "text": [
            "/usr/local/lib/python3.10/dist-packages/scikeras/wrappers.py:915: UserWarning: ``build_fn`` will be renamed to ``model`` in a future release, at which point use of ``build_fn`` will raise an Error instead.\n",
            "  X, y = self._initialize(X, y)\n"
          ]
        },
        {
          "output_type": "stream",
          "name": "stdout",
          "text": [
            "Epoch 1/2\n",
            "700/700 [==============================] - 24s 33ms/step - loss: 0.2929 - categorical_accuracy: 0.9157\n",
            "Epoch 2/2\n",
            "700/700 [==============================] - 24s 35ms/step - loss: 0.0928 - categorical_accuracy: 0.9723\n",
            "175/175 [==============================] - 2s 11ms/step\n"
          ]
        },
        {
          "output_type": "stream",
          "name": "stderr",
          "text": [
            "/usr/local/lib/python3.10/dist-packages/scikeras/wrappers.py:915: UserWarning: ``build_fn`` will be renamed to ``model`` in a future release, at which point use of ``build_fn`` will raise an Error instead.\n",
            "  X, y = self._initialize(X, y)\n"
          ]
        },
        {
          "output_type": "stream",
          "name": "stdout",
          "text": [
            "Epoch 1/2\n",
            "700/700 [==============================] - 24s 34ms/step - loss: 0.2832 - categorical_accuracy: 0.9182\n",
            "Epoch 2/2\n",
            "700/700 [==============================] - 24s 35ms/step - loss: 0.0897 - categorical_accuracy: 0.9739\n",
            "175/175 [==============================] - 2s 11ms/step\n"
          ]
        },
        {
          "output_type": "stream",
          "name": "stderr",
          "text": [
            "/usr/local/lib/python3.10/dist-packages/scikeras/wrappers.py:915: UserWarning: ``build_fn`` will be renamed to ``model`` in a future release, at which point use of ``build_fn`` will raise an Error instead.\n",
            "  X, y = self._initialize(X, y)\n"
          ]
        },
        {
          "output_type": "stream",
          "name": "stdout",
          "text": [
            "Epoch 1/2\n",
            "350/350 [==============================] - 23s 65ms/step - loss: 0.3550 - categorical_accuracy: 0.8997\n",
            "Epoch 2/2\n",
            "350/350 [==============================] - 23s 65ms/step - loss: 0.1239 - categorical_accuracy: 0.9639\n",
            "88/88 [==============================] - 2s 19ms/step\n"
          ]
        },
        {
          "output_type": "stream",
          "name": "stderr",
          "text": [
            "/usr/local/lib/python3.10/dist-packages/scikeras/wrappers.py:915: UserWarning: ``build_fn`` will be renamed to ``model`` in a future release, at which point use of ``build_fn`` will raise an Error instead.\n",
            "  X, y = self._initialize(X, y)\n"
          ]
        },
        {
          "output_type": "stream",
          "name": "stdout",
          "text": [
            "Epoch 1/2\n",
            "350/350 [==============================] - 23s 65ms/step - loss: 0.3651 - categorical_accuracy: 0.8963\n",
            "Epoch 2/2\n",
            "350/350 [==============================] - 23s 65ms/step - loss: 0.1207 - categorical_accuracy: 0.9648\n",
            "88/88 [==============================] - 2s 19ms/step\n"
          ]
        },
        {
          "output_type": "stream",
          "name": "stderr",
          "text": [
            "/usr/local/lib/python3.10/dist-packages/scikeras/wrappers.py:915: UserWarning: ``build_fn`` will be renamed to ``model`` in a future release, at which point use of ``build_fn`` will raise an Error instead.\n",
            "  X, y = self._initialize(X, y)\n"
          ]
        },
        {
          "output_type": "stream",
          "name": "stdout",
          "text": [
            "Epoch 1/2\n",
            "350/350 [==============================] - 23s 65ms/step - loss: 0.3558 - categorical_accuracy: 0.9000\n",
            "Epoch 2/2\n",
            "350/350 [==============================] - 22s 62ms/step - loss: 0.1172 - categorical_accuracy: 0.9656\n",
            "88/88 [==============================] - 2s 19ms/step\n"
          ]
        },
        {
          "output_type": "stream",
          "name": "stderr",
          "text": [
            "/usr/local/lib/python3.10/dist-packages/scikeras/wrappers.py:915: UserWarning: ``build_fn`` will be renamed to ``model`` in a future release, at which point use of ``build_fn`` will raise an Error instead.\n",
            "  X, y = self._initialize(X, y)\n"
          ]
        },
        {
          "output_type": "stream",
          "name": "stdout",
          "text": [
            "Epoch 1/2\n",
            "350/350 [==============================] - 22s 62ms/step - loss: 0.3833 - categorical_accuracy: 0.8946\n",
            "Epoch 2/2\n",
            "350/350 [==============================] - 23s 65ms/step - loss: 0.1212 - categorical_accuracy: 0.9648\n",
            "88/88 [==============================] - 2s 19ms/step\n"
          ]
        },
        {
          "output_type": "stream",
          "name": "stderr",
          "text": [
            "/usr/local/lib/python3.10/dist-packages/scikeras/wrappers.py:915: UserWarning: ``build_fn`` will be renamed to ``model`` in a future release, at which point use of ``build_fn`` will raise an Error instead.\n",
            "  X, y = self._initialize(X, y)\n"
          ]
        },
        {
          "output_type": "stream",
          "name": "stdout",
          "text": [
            "Epoch 1/2\n",
            "350/350 [==============================] - 23s 64ms/step - loss: 0.3741 - categorical_accuracy: 0.8940\n",
            "Epoch 2/2\n",
            "350/350 [==============================] - 23s 66ms/step - loss: 0.1236 - categorical_accuracy: 0.9642\n",
            "88/88 [==============================] - 2s 19ms/step\n"
          ]
        },
        {
          "output_type": "stream",
          "name": "stderr",
          "text": [
            "/usr/local/lib/python3.10/dist-packages/scikeras/wrappers.py:915: UserWarning: ``build_fn`` will be renamed to ``model`` in a future release, at which point use of ``build_fn`` will raise an Error instead.\n",
            "  X, y = self._initialize(X, y)\n"
          ]
        },
        {
          "output_type": "stream",
          "name": "stdout",
          "text": [
            "Epoch 1/2\n",
            "875/875 [==============================] - 31s 35ms/step - loss: 0.2323 - categorical_accuracy: 0.9326\n",
            "Epoch 2/2\n",
            "875/875 [==============================] - 31s 35ms/step - loss: 0.0752 - categorical_accuracy: 0.9774\n"
          ]
        }
      ]
    },
    {
      "cell_type": "code",
      "source": [
        "gridRes.best_estimator_"
      ],
      "metadata": {
        "colab": {
          "base_uri": "https://localhost:8080/",
          "height": 251
        },
        "id": "SqydjTulFNOK",
        "outputId": "43c46997-3f85-4468-802b-b61e4e8763e3"
      },
      "execution_count": 67,
      "outputs": [
        {
          "output_type": "execute_result",
          "data": {
            "text/plain": [
              "KerasClassifier(\n",
              "\tmodel=None\n",
              "\tbuild_fn=<function create_model at 0x7fa0c8633f40>\n",
              "\twarm_start=False\n",
              "\trandom_state=None\n",
              "\toptimizer=rmsprop\n",
              "\tloss=None\n",
              "\tmetrics=None\n",
              "\tbatch_size=64\n",
              "\tvalidation_batch_size=None\n",
              "\tverbose=1\n",
              "\tcallbacks=None\n",
              "\tvalidation_split=0.0\n",
              "\tshuffle=True\n",
              "\trun_eagerly=False\n",
              "\tepochs=2\n",
              "\tclass_weight=None\n",
              ")"
            ],
            "text/html": [
              "<style>#sk-container-id-1 {color: black;background-color: white;}#sk-container-id-1 pre{padding: 0;}#sk-container-id-1 div.sk-toggleable {background-color: white;}#sk-container-id-1 label.sk-toggleable__label {cursor: pointer;display: block;width: 100%;margin-bottom: 0;padding: 0.3em;box-sizing: border-box;text-align: center;}#sk-container-id-1 label.sk-toggleable__label-arrow:before {content: \"▸\";float: left;margin-right: 0.25em;color: #696969;}#sk-container-id-1 label.sk-toggleable__label-arrow:hover:before {color: black;}#sk-container-id-1 div.sk-estimator:hover label.sk-toggleable__label-arrow:before {color: black;}#sk-container-id-1 div.sk-toggleable__content {max-height: 0;max-width: 0;overflow: hidden;text-align: left;background-color: #f0f8ff;}#sk-container-id-1 div.sk-toggleable__content pre {margin: 0.2em;color: black;border-radius: 0.25em;background-color: #f0f8ff;}#sk-container-id-1 input.sk-toggleable__control:checked~div.sk-toggleable__content {max-height: 200px;max-width: 100%;overflow: auto;}#sk-container-id-1 input.sk-toggleable__control:checked~label.sk-toggleable__label-arrow:before {content: \"▾\";}#sk-container-id-1 div.sk-estimator input.sk-toggleable__control:checked~label.sk-toggleable__label {background-color: #d4ebff;}#sk-container-id-1 div.sk-label input.sk-toggleable__control:checked~label.sk-toggleable__label {background-color: #d4ebff;}#sk-container-id-1 input.sk-hidden--visually {border: 0;clip: rect(1px 1px 1px 1px);clip: rect(1px, 1px, 1px, 1px);height: 1px;margin: -1px;overflow: hidden;padding: 0;position: absolute;width: 1px;}#sk-container-id-1 div.sk-estimator {font-family: monospace;background-color: #f0f8ff;border: 1px dotted black;border-radius: 0.25em;box-sizing: border-box;margin-bottom: 0.5em;}#sk-container-id-1 div.sk-estimator:hover {background-color: #d4ebff;}#sk-container-id-1 div.sk-parallel-item::after {content: \"\";width: 100%;border-bottom: 1px solid gray;flex-grow: 1;}#sk-container-id-1 div.sk-label:hover label.sk-toggleable__label {background-color: #d4ebff;}#sk-container-id-1 div.sk-serial::before {content: \"\";position: absolute;border-left: 1px solid gray;box-sizing: border-box;top: 0;bottom: 0;left: 50%;z-index: 0;}#sk-container-id-1 div.sk-serial {display: flex;flex-direction: column;align-items: center;background-color: white;padding-right: 0.2em;padding-left: 0.2em;position: relative;}#sk-container-id-1 div.sk-item {position: relative;z-index: 1;}#sk-container-id-1 div.sk-parallel {display: flex;align-items: stretch;justify-content: center;background-color: white;position: relative;}#sk-container-id-1 div.sk-item::before, #sk-container-id-1 div.sk-parallel-item::before {content: \"\";position: absolute;border-left: 1px solid gray;box-sizing: border-box;top: 0;bottom: 0;left: 50%;z-index: -1;}#sk-container-id-1 div.sk-parallel-item {display: flex;flex-direction: column;z-index: 1;position: relative;background-color: white;}#sk-container-id-1 div.sk-parallel-item:first-child::after {align-self: flex-end;width: 50%;}#sk-container-id-1 div.sk-parallel-item:last-child::after {align-self: flex-start;width: 50%;}#sk-container-id-1 div.sk-parallel-item:only-child::after {width: 0;}#sk-container-id-1 div.sk-dashed-wrapped {border: 1px dashed gray;margin: 0 0.4em 0.5em 0.4em;box-sizing: border-box;padding-bottom: 0.4em;background-color: white;}#sk-container-id-1 div.sk-label label {font-family: monospace;font-weight: bold;display: inline-block;line-height: 1.2em;}#sk-container-id-1 div.sk-label-container {text-align: center;}#sk-container-id-1 div.sk-container {/* jupyter's `normalize.less` sets `[hidden] { display: none; }` but bootstrap.min.css set `[hidden] { display: none !important; }` so we also need the `!important` here to be able to override the default hidden behavior on the sphinx rendered scikit-learn.org. See: https://github.com/scikit-learn/scikit-learn/issues/21755 */display: inline-block !important;position: relative;}#sk-container-id-1 div.sk-text-repr-fallback {display: none;}</style><div id=\"sk-container-id-1\" class=\"sk-top-container\"><div class=\"sk-text-repr-fallback\"><pre>KerasClassifier(\n",
              "\tmodel=None\n",
              "\tbuild_fn=&lt;function create_model at 0x7fa0c8633f40&gt;\n",
              "\twarm_start=False\n",
              "\trandom_state=None\n",
              "\toptimizer=rmsprop\n",
              "\tloss=None\n",
              "\tmetrics=None\n",
              "\tbatch_size=64\n",
              "\tvalidation_batch_size=None\n",
              "\tverbose=1\n",
              "\tcallbacks=None\n",
              "\tvalidation_split=0.0\n",
              "\tshuffle=True\n",
              "\trun_eagerly=False\n",
              "\tepochs=2\n",
              "\tclass_weight=None\n",
              ")</pre><b>In a Jupyter environment, please rerun this cell to show the HTML representation or trust the notebook. <br />On GitHub, the HTML representation is unable to render, please try loading this page with nbviewer.org.</b></div><div class=\"sk-container\" hidden><div class=\"sk-item\"><div class=\"sk-estimator sk-toggleable\"><input class=\"sk-toggleable__control sk-hidden--visually\" id=\"sk-estimator-id-1\" type=\"checkbox\" checked><label for=\"sk-estimator-id-1\" class=\"sk-toggleable__label sk-toggleable__label-arrow\">KerasClassifier</label><div class=\"sk-toggleable__content\"><pre>KerasClassifier(\n",
              "\tmodel=None\n",
              "\tbuild_fn=&lt;function create_model at 0x7fa0c8633f40&gt;\n",
              "\twarm_start=False\n",
              "\trandom_state=None\n",
              "\toptimizer=rmsprop\n",
              "\tloss=None\n",
              "\tmetrics=None\n",
              "\tbatch_size=64\n",
              "\tvalidation_batch_size=None\n",
              "\tverbose=1\n",
              "\tcallbacks=None\n",
              "\tvalidation_split=0.0\n",
              "\tshuffle=True\n",
              "\trun_eagerly=False\n",
              "\tepochs=2\n",
              "\tclass_weight=None\n",
              ")</pre></div></div></div></div></div>"
            ]
          },
          "metadata": {},
          "execution_count": 67
        }
      ]
    }
  ]
}