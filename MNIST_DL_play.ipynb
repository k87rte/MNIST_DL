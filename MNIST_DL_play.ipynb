{
  "nbformat": 4,
  "nbformat_minor": 0,
  "metadata": {
    "colab": {
      "provenance": [],
      "authorship_tag": "ABX9TyNwtNLFoUoKa/XqBRJG7ELq",
      "include_colab_link": true
    },
    "kernelspec": {
      "name": "python3",
      "display_name": "Python 3"
    },
    "language_info": {
      "name": "python"
    }
  },
  "cells": [
    {
      "cell_type": "markdown",
      "metadata": {
        "id": "view-in-github",
        "colab_type": "text"
      },
      "source": [
        "<a href=\"https://colab.research.google.com/github/k87rte/MNIST_DL/blob/main/MNIST_DL_play.ipynb\" target=\"_parent\"><img src=\"https://colab.research.google.com/assets/colab-badge.svg\" alt=\"Open In Colab\"/></a>"
      ]
    },
    {
      "cell_type": "markdown",
      "source": [
        "### Use tensorflow to make DL-models for predicting handwritten numbers from the MNIST dataset"
      ],
      "metadata": {
        "id": "N6p3WfE9M0Xd"
      }
    },
    {
      "cell_type": "code",
      "source": [
        "import tensorflow as tf\n",
        "import tensorflow.keras as keras\n",
        "from keras.datasets import mnist\n",
        "from keras import Sequential, layers\n",
        "from keras.layers import Flatten, Dense\n",
        "from keras.utils import to_categorical\n",
        "import numpy as np\n",
        "import matplotlib.pyplot as plt\n",
        "from sklearn.model_selection import train_test_split"
      ],
      "metadata": {
        "id": "CUGc9JI9sOxs"
      },
      "execution_count": 1,
      "outputs": []
    },
    {
      "cell_type": "code",
      "source": [
        "(trainX, trainy),(testX, testy) = mnist.load_data()\n",
        "X = np.concatenate((trainX, testX),axis = 0)\n",
        "y = np.concatenate((trainy, testy), axis = 0)\n",
        "print(f'the shape of MNIST X = {X.shape}')\n",
        "print(f'the shape of MNIST y = {y.shape}')\n",
        "print('****************************')\n",
        "fig, (ax1,ax2) = plt.subplots(1,2,figsize=(4,2))\n",
        "ax1.imshow(X[4,:,:], cmap='gray')\n",
        "ax2.imshow(X[0,:,:], cmap='gray')\n",
        "fig.suptitle('handwritten numbers')"
      ],
      "metadata": {
        "id": "6lBvR9Jmsibk",
        "colab": {
          "base_uri": "https://localhost:8080/",
          "height": 297
        },
        "outputId": "dc2bc199-65a1-46a5-ac7b-5019756e4ec3"
      },
      "execution_count": 2,
      "outputs": [
        {
          "output_type": "stream",
          "name": "stdout",
          "text": [
            "the shape of MNIST X = (70000, 28, 28)\n",
            "the shape of MNIST y = (70000,)\n",
            "****************************\n"
          ]
        },
        {
          "output_type": "execute_result",
          "data": {
            "text/plain": [
              "Text(0.5, 0.98, 'handwritten numbers')"
            ]
          },
          "metadata": {},
          "execution_count": 2
        },
        {
          "output_type": "display_data",
          "data": {
            "text/plain": [
              "<Figure size 400x200 with 2 Axes>"
            ],
            "image/png": "[encoded data removed]"
          },
          "metadata": {}
        }
      ]
    },
    {
      "cell_type": "code",
      "source": [
        "rS = 42\n",
        "trainX, testX, trainy, testy = train_test_split(X,y,\n",
        "                                                random_state=rS,\n",
        "                                                shuffle=True,\n",
        "                                                train_size=.8)\n",
        "print(f'shape of trainX is {trainX.shape} for random state {rS}')\n",
        "print(f'shape of testX is {testX.shape} for random state {rS}')\n",
        "\n",
        "\n",
        "# the pixel intensities are 0-255. bringing it\n",
        "# between 0-1 will help in reaching the best params faster.\n",
        "\n",
        "trainX_norm = trainX/255\n",
        "testX_norm = testX/255\n",
        "trainy_onehot = to_categorical(trainy)\n",
        "testy_onehot = to_categorical(testy)\n",
        "\n",
        "# search and remove images with NAN\n",
        "print(f'does train images have nan: {np.isnan(trainX_norm).any()}')\n",
        "print(f'does test images have nan: {np.isnan(testX_norm).any()}')\n",
        "print(f'does train labels have nan: {np.isnan(trainy).any()}')\n",
        "print(f'does test labels have nan: {np.isnan(testy).any()}')"
      ],
      "metadata": {
        "colab": {
          "base_uri": "https://localhost:8080/"
        },
        "id": "iJcxGpJnsyOm",
        "outputId": "e95f2354-1a06-449c-fe24-a2d4b3dc7af5"
      },
      "execution_count": 3,
      "outputs": [
        {
          "output_type": "stream",
          "name": "stdout",
          "text": [
            "shape of trainX is (56000, 28, 28) for random state 42\n",
            "shape of testX is (14000, 28, 28) for random state 42\n",
            "does train images have nan: False\n",
            "does test images have nan: False\n",
            "does train labels have nan: False\n",
            "does test labels have nan: False\n"
          ]
        }
      ]
    },
    {
      "cell_type": "code",
      "source": [
        "from keras.engine import input_spec\n",
        "# build a fully connected dense neural network\n",
        "model_fc = Sequential()\n",
        "model_fc.add(Flatten(name='flatten_in'))\n",
        "model_fc.add(Dense(64, activation='relu', name='layer1'))\n",
        "model_fc.add(Dense(32, activation='relu', name='layer2'))\n",
        "model_fc.add(Dense(16, activation='relu', name='layer3'))\n",
        "model_fc.add(Dense(10, activation='softmax', name='finalLayer'))\n",
        "\n",
        "model_fc.compile(\n",
        "                 optimizer=keras.optimizers.Adam(learning_rate=0.001),\n",
        "                 loss=keras.losses.CategoricalCrossentropy(),\n",
        "                 metrics=[keras.metrics.CategoricalAccuracy()],\n",
        "                 )\n",
        "model_fc.build((None, 28*28))\n",
        "model_fc.summary()\n",
        "\n",
        "history = model_fc.fit(trainX_norm,\n",
        "             trainy_onehot,\n",
        "             epochs=30,\n",
        "             batch_size=32,\n",
        "             validation_data=(testX_norm, testy_onehot))"
      ],
      "metadata": {
        "colab": {
          "base_uri": "https://localhost:8080/"
        },
        "id": "RZ6UR7XA1vCY",
        "outputId": "befe442f-e985-4a04-ea19-c55e407d6d4c"
      },
      "execution_count": 16,
      "outputs": [
        {
          "output_type": "stream",
          "name": "stdout",
          "text": [
            "Model: \"sequential_1\"\n",
            "_________________________________________________________________\n",
            " Layer (type)                Output Shape              Param #   \n",
            "=================================================================\n",
            " flatten_in (Flatten)        (None, 784)               0         \n",
            "                                                                 \n",
            " layer1 (Dense)              (None, 64)                50240     \n",
            "                                                                 \n",
            " layer2 (Dense)              (None, 32)                2080      \n",
            "                                                                 \n",
            " layer3 (Dense)              (None, 16)                528       \n",
            "                                                                 \n",
            " finalLayer (Dense)          (None, 10)                170       \n",
            "                                                                 \n",
            "=================================================================\n",
            "Total params: 53,018\n",
            "Trainable params: 53,018\n",
            "Non-trainable params: 0\n",
            "_________________________________________________________________\n",
            "Epoch 1/30\n",
            "1750/1750 [==============================] - 10s 5ms/step - loss: 0.3387 - categorical_accuracy: 0.8987 - val_loss: 0.2098 - val_categorical_accuracy: 0.9409\n",
            "Epoch 2/30\n",
            "1750/1750 [==============================] - 12s 7ms/step - loss: 0.1426 - categorical_accuracy: 0.9585 - val_loss: 0.1457 - val_categorical_accuracy: 0.9573\n",
            "Epoch 3/30\n",
            "1750/1750 [==============================] - 9s 5ms/step - loss: 0.1058 - categorical_accuracy: 0.9682 - val_loss: 0.1399 - val_categorical_accuracy: 0.9593\n",
            "Epoch 4/30\n",
            "1750/1750 [==============================] - 9s 5ms/step - loss: 0.0832 - categorical_accuracy: 0.9751 - val_loss: 0.1139 - val_categorical_accuracy: 0.9671\n",
            "Epoch 5/30\n",
            "1750/1750 [==============================] - 9s 5ms/step - loss: 0.0696 - categorical_accuracy: 0.9782 - val_loss: 0.1165 - val_categorical_accuracy: 0.9670\n",
            "Epoch 6/30\n",
            "1750/1750 [==============================] - 6s 4ms/step - loss: 0.0596 - categorical_accuracy: 0.9807 - val_loss: 0.1213 - val_categorical_accuracy: 0.9667\n",
            "Epoch 7/30\n",
            "1750/1750 [==============================] - 7s 4ms/step - loss: 0.0517 - categorical_accuracy: 0.9834 - val_loss: 0.1212 - val_categorical_accuracy: 0.9665\n",
            "Epoch 8/30\n",
            "1750/1750 [==============================] - 6s 4ms/step - loss: 0.0427 - categorical_accuracy: 0.9859 - val_loss: 0.1138 - val_categorical_accuracy: 0.9707\n",
            "Epoch 9/30\n",
            "1750/1750 [==============================] - 9s 5ms/step - loss: 0.0394 - categorical_accuracy: 0.9872 - val_loss: 0.1165 - val_categorical_accuracy: 0.9703\n",
            "Epoch 10/30\n",
            "1750/1750 [==============================] - 6s 3ms/step - loss: 0.0342 - categorical_accuracy: 0.9886 - val_loss: 0.1200 - val_categorical_accuracy: 0.9696\n",
            "Epoch 11/30\n",
            "1750/1750 [==============================] - 8s 5ms/step - loss: 0.0302 - categorical_accuracy: 0.9906 - val_loss: 0.1215 - val_categorical_accuracy: 0.9699\n",
            "Epoch 12/30\n",
            "1750/1750 [==============================] - 7s 4ms/step - loss: 0.0283 - categorical_accuracy: 0.9910 - val_loss: 0.1203 - val_categorical_accuracy: 0.9722\n",
            "Epoch 13/30\n",
            "1750/1750 [==============================] - 7s 4ms/step - loss: 0.0251 - categorical_accuracy: 0.9914 - val_loss: 0.1193 - val_categorical_accuracy: 0.9736\n",
            "Epoch 14/30\n",
            "1750/1750 [==============================] - 7s 4ms/step - loss: 0.0239 - categorical_accuracy: 0.9918 - val_loss: 0.1265 - val_categorical_accuracy: 0.9709\n",
            "Epoch 15/30\n",
            "1750/1750 [==============================] - 7s 4ms/step - loss: 0.0223 - categorical_accuracy: 0.9927 - val_loss: 0.1232 - val_categorical_accuracy: 0.9729\n",
            "Epoch 16/30\n",
            "1750/1750 [==============================] - 12s 7ms/step - loss: 0.0206 - categorical_accuracy: 0.9929 - val_loss: 0.1347 - val_categorical_accuracy: 0.9727\n",
            "Epoch 17/30\n",
            "1750/1750 [==============================] - 12s 7ms/step - loss: 0.0199 - categorical_accuracy: 0.9936 - val_loss: 0.1414 - val_categorical_accuracy: 0.9721\n",
            "Epoch 18/30\n",
            "1750/1750 [==============================] - 9s 5ms/step - loss: 0.0166 - categorical_accuracy: 0.9943 - val_loss: 0.1455 - val_categorical_accuracy: 0.9703\n",
            "Epoch 19/30\n",
            "1750/1750 [==============================] - 9s 5ms/step - loss: 0.0167 - categorical_accuracy: 0.9942 - val_loss: 0.1509 - val_categorical_accuracy: 0.9708\n",
            "Epoch 20/30\n",
            "1750/1750 [==============================] - 10s 6ms/step - loss: 0.0171 - categorical_accuracy: 0.9939 - val_loss: 0.1556 - val_categorical_accuracy: 0.9709\n",
            "Epoch 21/30\n",
            "1750/1750 [==============================] - 7s 4ms/step - loss: 0.0165 - categorical_accuracy: 0.9947 - val_loss: 0.1499 - val_categorical_accuracy: 0.9718\n",
            "Epoch 22/30\n",
            "1750/1750 [==============================] - 6s 4ms/step - loss: 0.0153 - categorical_accuracy: 0.9948 - val_loss: 0.1535 - val_categorical_accuracy: 0.9718\n",
            "Epoch 23/30\n",
            "1750/1750 [==============================] - 7s 4ms/step - loss: 0.0110 - categorical_accuracy: 0.9962 - val_loss: 0.1723 - val_categorical_accuracy: 0.9712\n",
            "Epoch 24/30\n",
            "1750/1750 [==============================] - 7s 4ms/step - loss: 0.0152 - categorical_accuracy: 0.9948 - val_loss: 0.1859 - val_categorical_accuracy: 0.9698\n",
            "Epoch 25/30\n",
            "1750/1750 [==============================] - 8s 4ms/step - loss: 0.0157 - categorical_accuracy: 0.9950 - val_loss: 0.1563 - val_categorical_accuracy: 0.9742\n",
            "Epoch 26/30\n",
            "1750/1750 [==============================] - 7s 4ms/step - loss: 0.0110 - categorical_accuracy: 0.9962 - val_loss: 0.1488 - val_categorical_accuracy: 0.9747\n",
            "Epoch 27/30\n",
            "1750/1750 [==============================] - 8s 4ms/step - loss: 0.0124 - categorical_accuracy: 0.9960 - val_loss: 0.2113 - val_categorical_accuracy: 0.9660\n",
            "Epoch 28/30\n",
            "1750/1750 [==============================] - 7s 4ms/step - loss: 0.0132 - categorical_accuracy: 0.9957 - val_loss: 0.1783 - val_categorical_accuracy: 0.9724\n",
            "Epoch 29/30\n",
            "1750/1750 [==============================] - 8s 4ms/step - loss: 0.0122 - categorical_accuracy: 0.9960 - val_loss: 0.2108 - val_categorical_accuracy: 0.9681\n",
            "Epoch 30/30\n",
            "1750/1750 [==============================] - 7s 4ms/step - loss: 0.0113 - categorical_accuracy: 0.9961 - val_loss: 0.1869 - val_categorical_accuracy: 0.9706\n"
          ]
        }
      ]
    },
    {
      "cell_type": "code",
      "source": [
        "loss = history.history['loss']\n",
        "accuracy = history.history['categorical_accuracy']\n",
        "fig, (ax1, ax2) = plt.subplots(1,2,figsize=(5,3))\n",
        "ax1.plot(loss)\n",
        "ax2.plot(accuracy)\n",
        "ax1.set_title('loss')\n",
        "ax1.set_xlabel('epochs')\n",
        "ax2.set_title('accuracy')\n",
        "ax2.set_xlabel('epochs')\n",
        "fig.suptitle('model performance')\n",
        "plt.tight_layout()\n"
      ],
      "metadata": {
        "colab": {
          "base_uri": "https://localhost:8080/",
          "height": 316
        },
        "id": "sTCaabm7Llc7",
        "outputId": "4fcfeceb-9110-40fe-f539-3b1fa2f42e50"
      },
      "execution_count": 17,
      "outputs": [
        {
          "output_type": "display_data",
          "data": {
            "text/plain": [
              "<Figure size 500x300 with 2 Axes>"
            ],
            "image/png": "[encoded data removed]"
          },
          "metadata": {}
        }
      ]
    }
  ]
}